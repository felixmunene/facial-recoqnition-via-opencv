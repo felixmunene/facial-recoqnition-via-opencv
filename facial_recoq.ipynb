{
 "cells": [
  {
   "cell_type": "code",
   "execution_count": 1,
   "metadata": {},
   "outputs": [
    {
     "name": "stdout",
     "output_type": "stream",
     "text": [
      "3.4.3\n"
     ]
    }
   ],
   "source": [
    "#imports\n",
    "import numpy as np\n",
    "import os\n",
    "import math\n",
    "from matplotlib import pyplot as plt\n",
    "import cv2\n",
    "from IPython.display import clear_output\n",
    "print (cv2.__version__)"
   ]
  },
  {
   "cell_type": "code",
   "execution_count": 3,
   "metadata": {
    "scrolled": true
   },
   "outputs": [
    {
     "name": "stdout",
     "output_type": "stream",
     "text": [
      "True\n",
      "<VideoCapture 000001FB3E75ECD0> Is opened True\n"
     ]
    }
   ],
   "source": [
    "#take a picture\n",
    "webcam = cv2.VideoCapture(0)\n",
    "#ret , frame = webcam.read()\n",
    "\n",
    "print(webcam,\"Is opened\",webcam.isOpened())\n",
    "#webcam.release()"
   ]
  },
  {
   "cell_type": "code",
   "execution_count": 6,
   "metadata": {},
   "outputs": [],
   "source": [
    "#open another window\n",
    "#open another thread to handle external cv2 interaction\n",
    "#cv2.startWindowThread()\n",
    "#Create a window holder to show my image\n",
    "cv2.namedWindow(\"Facial recoq system trial\",cv2.WINDOW_AUTOSIZE)\n",
    "while True:\n",
    "    _ , frame = webcam.read()\n",
    "    cv2.imshow(\"Facial recoq system trial\",frame)\n",
    "\n",
    "     #create a key to close the window.\n",
    "        \n",
    "    if cv2.waitKey(20) == 27:\n",
    "        break\n",
    "cv2.destroyAllWindows()\n"
   ]
  },
  {
   "cell_type": "code",
   "execution_count": 4,
   "metadata": {},
   "outputs": [
    {
     "ename": "NameError",
     "evalue": "name 'webcam' is not defined",
     "output_type": "error",
     "traceback": [
      "\u001b[1;31m---------------------------------------------------------------------------\u001b[0m",
      "\u001b[1;31mNameError\u001b[0m                                 Traceback (most recent call last)",
      "\u001b[1;32m<ipython-input-4-423e118f2f0a>\u001b[0m in \u001b[0;36m<module>\u001b[1;34m()\u001b[0m\n\u001b[0;32m      2\u001b[0m \u001b[1;32mtry\u001b[0m\u001b[1;33m:\u001b[0m\u001b[1;33m\u001b[0m\u001b[0m\n\u001b[0;32m      3\u001b[0m     \u001b[1;32mwhile\u001b[0m \u001b[1;32mTrue\u001b[0m\u001b[1;33m:\u001b[0m\u001b[1;33m\u001b[0m\u001b[0m\n\u001b[1;32m----> 4\u001b[1;33m         \u001b[0m_\u001b[0m \u001b[1;33m,\u001b[0m \u001b[0mframe\u001b[0m \u001b[1;33m=\u001b[0m \u001b[0mwebcam\u001b[0m\u001b[1;33m.\u001b[0m\u001b[0mread\u001b[0m\u001b[1;33m(\u001b[0m\u001b[1;33m)\u001b[0m\u001b[1;33m\u001b[0m\u001b[0m\n\u001b[0m\u001b[0;32m      5\u001b[0m         \u001b[0mplt\u001b[0m\u001b[1;33m.\u001b[0m\u001b[0mimshow\u001b[0m\u001b[1;33m(\u001b[0m\u001b[0mframe\u001b[0m\u001b[1;33m)\u001b[0m\u001b[1;33m\u001b[0m\u001b[0m\n\u001b[0;32m      6\u001b[0m         \u001b[0mplt\u001b[0m\u001b[1;33m.\u001b[0m\u001b[0mshow\u001b[0m\u001b[1;33m(\u001b[0m\u001b[1;33m)\u001b[0m\u001b[1;33m\u001b[0m\u001b[0m\n",
      "\u001b[1;31mNameError\u001b[0m: name 'webcam' is not defined"
     ]
    }
   ],
   "source": [
    "from IPython.display import clear_output\n",
    "try:\n",
    "    while True:\n",
    "        _ , frame = webcam.read()\n",
    "        plt.imshow(frame)\n",
    "        plt.show()\n",
    "        clear_output(wait=True)\n",
    "except KeyboardInterrupt:\n",
    "    print(\"Live video feed interrupted\")  \n",
    "webcam.release()"
   ]
  },
  {
   "cell_type": "code",
   "execution_count": 3,
   "metadata": {},
   "outputs": [
    {
     "ename": "NameError",
     "evalue": "name 'frame' is not defined",
     "output_type": "error",
     "traceback": [
      "\u001b[1;31m---------------------------------------------------------------------------\u001b[0m",
      "\u001b[1;31mNameError\u001b[0m                                 Traceback (most recent call last)",
      "\u001b[1;32m<ipython-input-3-25fac4fbd152>\u001b[0m in \u001b[0;36m<module>\u001b[1;34m()\u001b[0m\n\u001b[0;32m      1\u001b[0m \u001b[1;31m# display image in notebook using matplotlib\u001b[0m\u001b[1;33m\u001b[0m\u001b[1;33m\u001b[0m\u001b[0m\n\u001b[1;32m----> 2\u001b[1;33m \u001b[0mplt\u001b[0m\u001b[1;33m.\u001b[0m\u001b[0mimshow\u001b[0m\u001b[1;33m(\u001b[0m\u001b[0mframe\u001b[0m\u001b[1;33m)\u001b[0m\u001b[1;33m\u001b[0m\u001b[0m\n\u001b[0m\u001b[0;32m      3\u001b[0m \u001b[0mplt\u001b[0m\u001b[1;33m.\u001b[0m\u001b[0mshow\u001b[0m\u001b[1;33m(\u001b[0m\u001b[1;33m)\u001b[0m\u001b[1;33m\u001b[0m\u001b[0m\n",
      "\u001b[1;31mNameError\u001b[0m: name 'frame' is not defined"
     ]
    }
   ],
   "source": [
    "# display image in notebook using matplotlib\n",
    "plt.imshow(frame)\n",
    "plt.show()"
   ]
  },
  {
   "cell_type": "code",
   "execution_count": 2,
   "metadata": {},
   "outputs": [
    {
     "name": "stdout",
     "output_type": "stream",
     "text": [
      "True\n"
     ]
    }
   ],
   "source": [
    "#displaying a video in another window\n",
    "video = cv2.VideoCapture(\"X:\\Hunter.Killer.2018.720p.WEB-DL.MkvCage.ws.mkv.mp4\")\n",
    "print(video.isOpened())\n",
    "cv2.namedWindow(\"Hunter Killer movie\",cv2.WINDOW_AUTOSIZE)\n",
    "while video.isOpened():\n",
    "    ret ,frame = video.read()\n",
    "    if not ret:\n",
    "        break\n",
    "    cv2.imshow(\"Hunter Killer movie\",frame)\n",
    "    if cv2.waitKey(40) == 27:\n",
    "        break\n",
    "video.release()\n",
    "cv2.destroyAllWindows()"
   ]
  },
  {
   "cell_type": "code",
   "execution_count": 3,
   "metadata": {},
   "outputs": [],
   "source": [
    "# now on to face detection using Haar feature cascade algorithm\n",
    "class VideoCamera(object):\n",
    "    def __init__(self,index=0):\n",
    "        self.video = cv2.VideoCapture(index)\n",
    "        self.index = index\n",
    "        print(self.video.isOpened())\n",
    "        \n",
    "    def __del__(self):\n",
    "        self.video.release()\n",
    "    def get_frame(self,in_grayscale=False):\n",
    "        _,frame = self.video.read()\n",
    "        if in_grayscale:\n",
    "            frame = cv2.cvtColor(frame, cv2.COLOR_BGR2GRAY)\n",
    "        return frame"
   ]
  },
  {
   "cell_type": "code",
   "execution_count": 2,
   "metadata": {
    "scrolled": true
   },
   "outputs": [],
   "source": [
    "#define face detector\n",
    "class FaceDetector(object):\n",
    "    def __init__(self,xml_path):\n",
    "        self.classifier = cv2.CascadeClassifier(xml_path)\n",
    "    def detect(self,image,biggest_only=True):\n",
    "        #detector  = cv2.CascadeClassifier('haarcascade_frontalface_alt.xml')\n",
    "        #detector  = cv2.CascadeClassifier(cv2.data.haarcascades + 'haarcascade_frontalface_alt.xml')\n",
    "        scale_factor = 1.2\n",
    "        min_neighbors = 5\n",
    "        min_size = (30,30)\n",
    "        biggest_only = True\n",
    "        #print(frame)\n",
    "        flags = cv2.CASCADE_FIND_BIGGEST_OBJECT | \\\n",
    "                   cv2.CASCADE_DO_ROUGH_SEARCH if biggest_only else \\\n",
    "                   cv2.CASCADE_SCALE_IMAGE\n",
    "        faces_coord = self.classifier.detectMultiScale(image,scaleFactor=scale_factor,minNeighbors=min_neighbors,minSize=min_size,flags=flags)\n",
    "        return faces_coord    \n"
   ]
  },
  {
   "cell_type": "code",
   "execution_count": 4,
   "metadata": {},
   "outputs": [
    {
     "name": "stdout",
     "output_type": "stream",
     "text": [
      "True\n"
     ]
    }
   ],
   "source": [
    "webcam = VideoCamera()\n",
    "detector = FaceDetector('haarcascade_frontalface_alt.xml')\n",
    "#detector  = cv2.CascadeClassifier(cv2.data.haarcascades + 'haarcascade_frontalface_alt.xml')"
   ]
  },
  {
   "cell_type": "code",
   "execution_count": 5,
   "metadata": {
    "scrolled": true
   },
   "outputs": [
    {
     "name": "stdout",
     "output_type": "stream",
     "text": [
      "Live video feed interrupted\n"
     ]
    }
   ],
   "source": [
    "#draw a rectangle around my face\n",
    "try:\n",
    "    while True:\n",
    "        frame = webcam.get_frame()\n",
    "        frame1 = cv2.cvtColor(frame, cv2.COLOR_BGR2RGB)\n",
    "        faces_coord = detector.detect(frame1)   \n",
    "        for(x,y,w,h) in faces_coord:\n",
    "            cv2.rectangle(frame1, (x,y),(x+w,y+h),(150,150,0),8)\n",
    "        plt.imshow(frame1)\n",
    "        plt.show()\n",
    "        clear_output(wait=True)\n",
    "except KeyboardInterrupt:\n",
    "    print(\"Live video feed interrupted\")"
   ]
  },
  {
   "cell_type": "code",
   "execution_count": 5,
   "metadata": {},
   "outputs": [],
   "source": [
    "#normalize images to maximize accuracy\n",
    "def cut_faces(image, faces_choord):\n",
    "    faces = []\n",
    "    for(x,y,w,h) in faces_choord:\n",
    "        w_rm = int(0.2*w/2)\n",
    "        faces.append(image[y: y+h , x+w_rm: x+w-w_rm])\n",
    "    return faces"
   ]
  },
  {
   "cell_type": "code",
   "execution_count": 25,
   "metadata": {},
   "outputs": [
    {
     "name": "stdout",
     "output_type": "stream",
     "text": [
      "Live video feed interrupted\n"
     ]
    }
   ],
   "source": [
    "#display the cut faces\n",
    "try:\n",
    "    while True:\n",
    "        frame = webcam.get_frame()\n",
    "        #frame1 = cv2.cvtColor(frame, cv2.COLOR_BGR2RGB)\n",
    "        faces_coord = detector.detect(frame)   \n",
    "        if len(faces_coord):\n",
    "            #print(faces_coord)\n",
    "            faces = cut_faces(frame, faces_coord)\n",
    "            #print(faces)\n",
    "            plt.imshow(faces[0])\n",
    "            plt.sh\n",
    "            ow()\n",
    "            clear_output(wait=True)\n",
    "except KeyboardInterrupt:\n",
    "    print(\"Live video feed interrupted\")"
   ]
  },
  {
   "cell_type": "code",
   "execution_count": 6,
   "metadata": {},
   "outputs": [],
   "source": [
    "#normalize pixel intensity\n",
    "def normalize_intensity(images):\n",
    "    images_norm = []    \n",
    "    for image in images:\n",
    "        is_color = len(image.shape) == 3\n",
    "        if is_color:\n",
    "            image = cv2.cvtColor(image,cv2.COLOR_BGR2GRAY)\n",
    "        images_norm.append(cv2.equalizeHist(image))\n",
    "    return images_norm"
   ]
  },
  {
   "cell_type": "code",
   "execution_count": 32,
   "metadata": {},
   "outputs": [
    {
     "data": {
      "image/png": "[encoded data removed]",
      "text/plain": [
       "<Figure size 432x288 with 1 Axes>"
      ]
     },
     "metadata": {},
     "output_type": "display_data"
    },
    {
     "data": {
      "image/png": "[encoded data removed]",
      "text/plain": [
       "<Figure size 432x288 with 1 Axes>"
      ]
     },
     "metadata": {},
     "output_type": "display_data"
    }
   ],
   "source": [
    "face_bw = cv2.cvtColor(faces[0],cv2.COLOR_BGR2GRAY)\n",
    "face_bw_eq = cv2.equalizeHist(face_bw)\n",
    "plt.imshow(face_bw)\n",
    "plt.show()\n",
    "plt.imshow(face_bw_eq)\n",
    "plt.show()"
   ]
  },
  {
   "cell_type": "code",
   "execution_count": 39,
   "metadata": {},
   "outputs": [
    {
     "name": "stdout",
     "output_type": "stream",
     "text": [
      "Live video feed interrupted\n"
     ]
    }
   ],
   "source": [
    "#dispay the image once faces are cut and pixel intensity has been normalized\n",
    "try:\n",
    "    while True:\n",
    "        frame = webcam.get_frame()\n",
    "        #frame1 = cv2.cvtColor(frame, cv2.COLOR_BGR2RGB)\n",
    "        faces_coord = detector.detect(frame)   \n",
    "        if len(faces_coord):\n",
    "            #print(faces_coord)\n",
    "            faces = cut_faces(frame, faces_coord)\n",
    "            faces = normalize_intensity(faces)\n",
    "            #print(faces)\n",
    "            plt.imshow(faces[0])\n",
    "            plt.show()\n",
    "            clear_output(wait=True)\n",
    "except KeyboardInterrupt:\n",
    "    print(\"Live video feed interrupted\")"
   ]
  },
  {
   "cell_type": "code",
   "execution_count": 7,
   "metadata": {},
   "outputs": [],
   "source": [
    "# define a function to resize the images\n",
    "def resize(images, size=( 50, 50)):\n",
    "    images_norm = []\n",
    "    for image in images:\n",
    "        if image.shape < size:\n",
    "            image_norm = cv2.resize(image,size, interpolation = cv2.INTER_AREA)\n",
    "        else:\n",
    "            image_norm = cv2.resize(image,size, interpolation = cv2.INTER_CUBIC)\n",
    "        images_norm.append(image_norm)\n",
    "    return images_norm"
   ]
  },
  {
   "cell_type": "code",
   "execution_count": 43,
   "metadata": {},
   "outputs": [
    {
     "name": "stdout",
     "output_type": "stream",
     "text": [
      "Live video feed interrupted\n"
     ]
    },
    {
     "data": {
      "text/plain": [
       "<Figure size 432x288 with 0 Axes>"
      ]
     },
     "metadata": {},
     "output_type": "display_data"
    }
   ],
   "source": [
    "#dispay the image once faces are cut and pixel intensity has been normalized and resized\n",
    "try:\n",
    "    while True:\n",
    "        frame = webcam.get_frame()\n",
    "        #frame1 = cv2.cvtColor(frame, cv2.COLOR_BGR2RGB)\n",
    "        faces_coord = detector.detect(frame)   \n",
    "        if len(faces_coord):\n",
    "            #print(faces_coord)\n",
    "            faces = cut_faces(frame, faces_coord)\n",
    "            faces = normalize_intensity(faces)\n",
    "            faces = resize(faces)\n",
    "            #print(faces)\n",
    "            plt.imshow(faces[0])\n",
    "            plt.show()\n",
    "            clear_output(wait=True)\n",
    "except KeyboardInterrupt:\n",
    "    print(\"Live video feed interrupted\")"
   ]
  },
  {
   "cell_type": "code",
   "execution_count": 8,
   "metadata": {},
   "outputs": [],
   "source": [
    "#functions to draw rectangle and normalize the faces\n",
    "\n",
    "def normalize_faces(frame, faces_coord):\n",
    "    faces = cut_faces(frame, faces_coord)\n",
    "    faces = normalize_intensity(faces)\n",
    "    faces = resize(faces)\n",
    "    return faces\n",
    "\n",
    "def draw_rectangle(image, coords):\n",
    "    for (x,y,w,h) in coords:\n",
    "        w_rm = int(0.2 * w/2)\n",
    "        cv2.rectangle(image,(x+w_rm,y),(x+w-w_rm,y+h),(150,150,0),8)"
   ]
  },
  {
   "cell_type": "code",
   "execution_count": 8,
   "metadata": {},
   "outputs": [
    {
     "data": {
      "image/png": "[encoded data removed]",
      "text/plain": [
       "<Figure size 432x288 with 1 Axes>"
      ]
     },
     "metadata": {},
     "output_type": "display_data"
    }
   ],
   "source": [
    "#create dataset\n",
    "\n",
    "folder = \"people/\" + input('Person: '.lower())\n",
    "#input name\n",
    "cv2.namedWindow(\"Facial Recoq\",cv2.WINDOW_AUTOSIZE)\n",
    "if not os.path.exists(folder):\n",
    "    print(folder)\n",
    "    os.makedirs(folder)\n",
    "    counter =0\n",
    "    timer = 0\n",
    "    while counter <= 20:\n",
    "        frame = webcam.get_frame()\n",
    "        faces_coord = detector.detect(frame)\n",
    "        if len(faces_coord) and timer % 700==50:\n",
    "            faces = normalize_faces(frame, faces_coord)\n",
    "            cv2.imwrite(folder + '/' + str(counter) + '.jpg', faces[0])\n",
    "            plt.title(\"Images saved: \" +str(counter))\n",
    "            plt.imshow(faces[0])\n",
    "            plt.show()\n",
    "            clear_output(wait = True)\n",
    "            counter += 1\n",
    "        draw_rectangle(frame, faces_coord)\n",
    "        cv2.imshow(\"Facial Recoq\", frame)\n",
    "        cv2.waitKey(50)\n",
    "        timer += 50\n",
    "    cv2.destroyAllWindows()\n",
    "else:\n",
    "    print(\"This name already exists\")        "
   ]
  },
  {
   "cell_type": "code",
   "execution_count": 11,
   "metadata": {},
   "outputs": [],
   "source": [
    "del webcam"
   ]
  },
  {
   "cell_type": "code",
   "execution_count": 2,
   "metadata": {},
   "outputs": [
    {
     "name": "stdout",
     "output_type": "stream",
     "text": [
      "4.0.0\n",
      "True\n"
     ]
    }
   ],
   "source": [
    "# a compressed version of the above recoqnition system\n",
    "# it has a complete recoqnition model\n",
    "#imports\n",
    "import numpy as np\n",
    "import os\n",
    "import math\n",
    "from matplotlib import pyplot as plt\n",
    "import cv2\n",
    "from IPython.display import clear_output\n",
    "print (cv2.__version__)\n",
    "\n",
    "\n",
    "\n",
    "# now on to face detection using Haar feature cascade algorithm\n",
    "class VideoCamera(object):\n",
    "    def __init__(self,index=0):\n",
    "        self.video = cv2.VideoCapture(index)\n",
    "        self.index = index\n",
    "        print(self.video.isOpened())\n",
    "        \n",
    "    def __del__(self):\n",
    "        self.video.release()\n",
    "    def get_frame(self,in_grayscale=False):\n",
    "        _,frame = self.video.read()\n",
    "        if in_grayscale:\n",
    "            frame = cv2.cvtColor(frame, cv2.COLOR_BGR2GRAY)\n",
    "        return frame\n",
    "    \n",
    "#define face detector\n",
    "class FaceDetector(object):\n",
    "    def __init__(self,xml_path):\n",
    "        self.classifier = cv2.CascadeClassifier(xml_path)\n",
    "    def detect(self,image,biggest_only=True):\n",
    "        #detector  = cv2.CascadeClassifier('haarcascade_frontalface_alt.xml')\n",
    "        #detector  = cv2.CascadeClassifier(cv2.data.haarcascades + 'haarcascade_frontalface_alt.xml')\n",
    "        scale_factor = 1.2\n",
    "        min_neighbors = 5\n",
    "        min_size = (30,30)\n",
    "        biggest_only = True\n",
    "        #print(frame)\n",
    "        flags = cv2.CASCADE_FIND_BIGGEST_OBJECT | \\\n",
    "                   cv2.CASCADE_DO_ROUGH_SEARCH if biggest_only else \\\n",
    "                   cv2.CASCADE_SCALE_IMAGE\n",
    "        faces_coord = self.classifier.detectMultiScale(image,scaleFactor=scale_factor,minNeighbors=min_neighbors,minSize=min_size,flags=flags)\n",
    "        return faces_coord   \n",
    "\n",
    "#initialize webcam incident   \n",
    "webcam = VideoCamera()\n",
    "detector = FaceDetector('haarcascade_frontalface_alt.xml')\n",
    "#detector  = cv2.CascadeClassifier(cv2.data.haarcascades + 'haarcascade_frontalface_alt.xml')\n",
    "\n",
    "\n",
    "\n",
    "#normalize images to maximize accuracy\n",
    "def cut_faces(image, faces_choord):\n",
    "    faces = []\n",
    "    for(x,y,w,h) in faces_choord:\n",
    "        w_rm = int(0.2*w/2)\n",
    "        faces.append(image[y: y+h , x+w_rm: x+w-w_rm])\n",
    "    return faces\n",
    "\n",
    "#normalize pixel intensity\n",
    "def normalize_intensity(images):\n",
    "    images_norm = []    \n",
    "    for image in images:\n",
    "        is_color = len(image.shape) == 3\n",
    "        if is_color:\n",
    "            image = cv2.cvtColor(image,cv2.COLOR_BGR2GRAY)\n",
    "        images_norm.append(cv2.equalizeHist(image))\n",
    "    return images_norm\n",
    "# define a function to resize the images\n",
    "def resize(images, size=( 50, 50)):\n",
    "    images_norm = []\n",
    "    for image in images:\n",
    "        if image.shape < size:\n",
    "            image_norm = cv2.resize(image,size, interpolation = cv2.INTER_AREA)\n",
    "        else:\n",
    "            image_norm = cv2.resize(image,size, interpolation = cv2.INTER_CUBIC)\n",
    "        images_norm.append(image_norm)\n",
    "    return images_norm\n",
    "#functions to draw rectangle and normalize the faces\n",
    "\n",
    "def normalize_faces(frame, faces_coord):\n",
    "    faces = cut_faces(frame, faces_coord)\n",
    "    faces = normalize_intensity(faces)\n",
    "    faces = resize(faces)\n",
    "    return faces\n",
    "\n",
    "def draw_rectangle(image, coords):\n",
    "    for (x,y,w,h) in coords:\n",
    "        w_rm = int(0.2 * w/2)\n",
    "        cv2.rectangle(image,(x+w_rm,y),(x+w-w_rm,y+h),(150,150,0),8)\n",
    "#del webcam"
   ]
  },
  {
   "cell_type": "code",
   "execution_count": 9,
   "metadata": {},
   "outputs": [],
   "source": [
    "def collect_dataset():\n",
    "    images = []\n",
    "    labels = []\n",
    "    labels_dict = {}\n",
    "    people = [person for person in os.listdir(\"people/\")]\n",
    "    for i, person in enumerate(people):\n",
    "        labels_dict[i]= person\n",
    "        for image in os.listdir('people/' + person):\n",
    "            images.append(cv2.imread(\"people/\" + person + '/' + image,0))\n",
    "            labels.append(i)\n",
    "    return (images, np.array(labels), labels_dict)"
   ]
  },
  {
   "cell_type": "code",
   "execution_count": 10,
   "metadata": {
    "scrolled": true
   },
   "outputs": [
    {
     "name": "stdout",
     "output_type": "stream",
     "text": [
      "Models trained successfully\n"
     ]
    }
   ],
   "source": [
    "images, labels, labels_dict = collect_dataset()\n",
    "rec_eig = cv2.face.EigenFaceRecognizer_create()\n",
    "rec_eig.train(images,labels)\n",
    "\n",
    "rec_fisher = cv2.face.FisherFaceRecognizer_create()\n",
    "rec_fisher.train(images,labels)\n",
    "\n",
    "rec_lbph = cv2.face.LBPHFaceRecognizer_create()\n",
    "rec_lbph.train(images,labels)\n",
    "\n",
    "print(\"Models trained successfully\")"
   ]
  },
  {
   "cell_type": "code",
   "execution_count": 6,
   "metadata": {},
   "outputs": [
    {
     "name": "stdout",
     "output_type": "stream",
     "text": [
      "True\n"
     ]
    },
    {
     "data": {
      "image/png": "[encoded data removed]",
      "text/plain": [
       "<Figure size 432x288 with 1 Axes>"
      ]
     },
     "metadata": {},
     "output_type": "display_data"
    }
   ],
   "source": [
    "webcam = VideoCamera()\n",
    "frame = webcam.get_frame()\n",
    "detector = FaceDetector(\"haarcascade_frontalface_alt.xml\")\n",
    "frame = webcam.get_frame()\n",
    "faces_coord = detector.detect(frame)\n",
    "faces = normalize_faces(frame, faces_coord)\n",
    "face = faces[0]\n",
    "plt.imshow(face)\n",
    "plt.show()\n",
    "del webcam"
   ]
  },
  {
   "cell_type": "code",
   "execution_count": 5,
   "metadata": {},
   "outputs": [
    {
     "ename": "NameError",
     "evalue": "name 'face' is not defined",
     "output_type": "error",
     "traceback": [
      "\u001b[1;31m---------------------------------------------------------------------------\u001b[0m",
      "\u001b[1;31mNameError\u001b[0m                                 Traceback (most recent call last)",
      "\u001b[1;32m<ipython-input-5-b69a93acd478>\u001b[0m in \u001b[0;36m<module>\u001b[1;34m()\u001b[0m\n\u001b[0;32m      1\u001b[0m \u001b[0mcollector\u001b[0m  \u001b[1;33m=\u001b[0m \u001b[0mcv2\u001b[0m\u001b[1;33m.\u001b[0m\u001b[0mface\u001b[0m\u001b[1;33m.\u001b[0m\u001b[0mStandardCollector_create\u001b[0m\u001b[1;33m(\u001b[0m\u001b[1;33m)\u001b[0m\u001b[1;33m\u001b[0m\u001b[0m\n\u001b[0;32m      2\u001b[0m \u001b[1;31m# using eigen vectors predictor\u001b[0m\u001b[1;33m\u001b[0m\u001b[1;33m\u001b[0m\u001b[0m\n\u001b[1;32m----> 3\u001b[1;33m \u001b[0mrec_eig\u001b[0m\u001b[1;33m.\u001b[0m\u001b[0mpredict_collect\u001b[0m\u001b[1;33m(\u001b[0m\u001b[0mface\u001b[0m\u001b[1;33m,\u001b[0m\u001b[0mcollector\u001b[0m\u001b[1;33m)\u001b[0m\u001b[1;33m\u001b[0m\u001b[0m\n\u001b[0m\u001b[0;32m      4\u001b[0m \u001b[0mconf\u001b[0m \u001b[1;33m=\u001b[0m \u001b[0mcollector\u001b[0m\u001b[1;33m.\u001b[0m\u001b[0mgetMinDist\u001b[0m\u001b[1;33m(\u001b[0m\u001b[1;33m)\u001b[0m\u001b[1;33m\u001b[0m\u001b[0m\n\u001b[0;32m      5\u001b[0m \u001b[0mpred\u001b[0m \u001b[1;33m=\u001b[0m \u001b[0mcollector\u001b[0m\u001b[1;33m.\u001b[0m\u001b[0mgetMinLabel\u001b[0m\u001b[1;33m(\u001b[0m\u001b[1;33m)\u001b[0m\u001b[1;33m\u001b[0m\u001b[0m\n",
      "\u001b[1;31mNameError\u001b[0m: name 'face' is not defined"
     ]
    }
   ],
   "source": [
    "collector  = cv2.face.StandardCollector_create()\n",
    "# using eigen vectors predictor\n",
    "rec_eig.predict_collect(face,collector)\n",
    "conf = collector.getMinDist()\n",
    "pred = collector.getMinLabel()\n",
    "print(\"Eigen faces -> prediction: \" + labels_dict[pred].capitalize())\n",
    "print(\"Confidence -> \"+str(round(conf)))\n",
    "\n",
    "# using fisher model for prediction\n",
    "rec_fisher.predict_collect(face,collector)\n",
    "conf = collector.getMinDist()\n",
    "pred = collector.getMinLabel()\n",
    "print(\"Fisher faces -> prediction: \" + labels_dict[pred].capitalize())\n",
    "print(\"Confidence -> \"+str(round(conf)))\n",
    "\n",
    "# using lbph\n",
    "rec_lbph.predict_collect(face,collector)\n",
    "conf = collector.getMinDist()\n",
    "pred = collector.getMinLabel()\n",
    "print(\"LBPH faces -> prediction: \" + labels_dict[pred].capitalize())\n",
    "print(\"Confidence -> \"+str(round(conf)))"
   ]
  },
  {
   "cell_type": "code",
   "execution_count": 11,
   "metadata": {},
   "outputs": [
    {
     "name": "stdout",
     "output_type": "stream",
     "text": [
      "Prediction:  Felix\n",
      "Confidence:  1612.13098138294\n"
     ]
    }
   ],
   "source": [
    "cv2.namedWindow(\"Facial Recoq live\", cv2.WINDOW_AUTOSIZE)\n",
    "while True:\n",
    "    frame = webcam.get_frame()\n",
    "    faces_coord = detector.detect(frame, True)\n",
    "    if len(faces_coord):\n",
    "        faces = normalize_faces(frame, faces_coord)\n",
    "        for i, face in enumerate(faces):\n",
    "            collector = cv2.face.StandardCollector_create()\n",
    "            rec_eig.predict_collect(face, collector)\n",
    "            conf = collector.getMinDist()\n",
    "            pred = collector.getMinLabel()\n",
    "            threshold = 140\n",
    "            print(\"Prediction: \",labels_dict[pred].capitalize())\n",
    "            print(\"Confidence: \",conf)\n",
    "            cv2.putText(frame,labels_dict[pred].capitalize()\n",
    "                        ,(faces_coord[i][0],faces_coord[i][1]-10),\n",
    "                        cv2.FONT_HERSHEY_PLAIN,1.3,(66,53,243),2\n",
    "                        ,cv2.LINE_AA)\n",
    "        clear_output(wait = True)\n",
    "        draw_rectangle(frame, faces_coord)\n",
    "    cv2.putText(frame,\"ESC to escape\",(5, frame.shape[0]-5),\n",
    "               cv2.FONT_HERSHEY_PLAIN,1,(66,53,243),2,cv2.LINE_AA)\n",
    "    cv2.imshow(\"Facial Recoq live\",frame)\n",
    "    if cv2.waitKey(40) == 27:\n",
    "        cv2.destroyAllWindows()\n",
    "        break"
   ]
  }
 ],
 "metadata": {
  "kernelspec": {
   "display_name": "Python 3",
   "language": "python",
   "name": "python3"
  },
  "language_info": {
   "codemirror_mode": {
    "name": "ipython",
    "version": 3
   },
   "file_extension": ".py",
   "mimetype": "text/x-python",
   "name": "python",
   "nbconvert_exporter": "python",
   "pygments_lexer": "ipython3",
   "version": "3.6.4"
  }
 },
 "nbformat": 4,
 "nbformat_minor": 2
}
